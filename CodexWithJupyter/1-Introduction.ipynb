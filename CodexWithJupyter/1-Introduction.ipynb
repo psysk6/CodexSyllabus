{
 "cells": [
  {
   "cell_type": "markdown",
   "metadata": {},
   "source": [
    "# 1- Print Statments and Variables\n",
    "<!--teachers before the lesson should make sure that students can use Jupyter Notebook and have correct access to this note-->\n",
    "\n",
    "\n",
    "## 1.0- Introduction\n",
    "Hi, welcome to your first program! This will teach you the very basics of python: how to print to the output window and how to use variables.\n",
    "\n",
    "Throughout this project you'll be learning the fundamental concepts of programming as well as learning how to make a very simple matching pairs game so you can see how the stuff you've just learned can be used."
   ]
  },
  {
   "cell_type": "markdown",
   "metadata": {},
   "source": [
    "~~~\n",
    "Welcome to Sam and Dekarnye's Matching Pairs Game!\n",
    "1- Start a new random game\n",
    "2- Start the training game\n",
    "3- Exit the game\n",
    "Enter your choice:1\n",
    "\n",
    "Starting a random game...\n",
    "\n",
    "  1 2 3 4\n",
    "A * * * *\n",
    "B * * * *\n",
    "C * * * *\n",
    "D * * * *\n",
    "\n",
    "Enter row:\n",
    "~~~"
   ]
  },
  {
   "cell_type": "markdown",
   "metadata": {},
   "source": [
    "Sounds like a lot right? We're gonna break it right down. "
   ]
  },
  {
   "cell_type": "markdown",
   "metadata": {},
   "source": [
    "## 1.1- A simple print statement\n",
    "Firstly we need to know how to output to console. For this we use a print statement. The syntax for a print statement is as follows:"
   ]
  },
  {
   "cell_type": "code",
   "execution_count": null,
   "metadata": {},
   "outputs": [],
   "source": [
    "print(\"hello\")"
   ]
  },
  {
   "cell_type": "code",
   "execution_count": null,
   "metadata": {},
   "outputs": [],
   "source": [
    "print(1+1)"
   ]
  },
  {
   "cell_type": "code",
   "execution_count": null,
   "metadata": {},
   "outputs": [],
   "source": []
  },
  {
   "cell_type": "code",
   "execution_count": null,
   "metadata": {},
   "outputs": [],
   "source": []
  },
  {
   "cell_type": "code",
   "execution_count": null,
   "metadata": {},
   "outputs": [],
   "source": []
  },
  {
   "cell_type": "code",
   "execution_count": null,
   "metadata": {},
   "outputs": [],
   "source": []
  },
  {
   "cell_type": "code",
   "execution_count": null,
   "metadata": {},
   "outputs": [],
   "source": []
  },
  {
   "cell_type": "code",
   "execution_count": null,
   "metadata": {},
   "outputs": [],
   "source": []
  },
  {
   "cell_type": "code",
   "execution_count": null,
   "metadata": {},
   "outputs": [],
   "source": []
  }
 ],
 "metadata": {
  "kernelspec": {
   "display_name": "Python 3",
   "language": "python",
   "name": "python3"
  },
  "language_info": {
   "name": ""
  }
 },
 "nbformat": 4,
 "nbformat_minor": 4
}
